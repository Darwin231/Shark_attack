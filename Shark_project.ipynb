{
 "cells": [
  {
   "cell_type": "markdown",
   "id": "65eae750",
   "metadata": {},
   "source": [
    "## First steps "
   ]
  },
  {
   "cell_type": "code",
   "execution_count": 1,
   "id": "a3200891",
   "metadata": {},
   "outputs": [],
   "source": [
    "import pandas as pd\n",
    "import numpy as np\n",
    "import geopandas as geo\n",
    "import matplotlib.pyplot as plt\n",
    "import seaborn as sns\n",
    "import formulas as f\n",
    "import requests as r\n",
    "\n",
    "\n",
    "from geopy.geocoders import Nominatim\n",
    "from pycountry_convert import country_name_to_country_alpha2"
   ]
  },
  {
   "cell_type": "code",
   "execution_count": 2,
   "id": "840e3d7e",
   "metadata": {},
   "outputs": [],
   "source": [
    "sharks_df = pd.read_csv('attacks.csv', encoding='latin1')"
   ]
  },
  {
   "cell_type": "markdown",
   "id": "a09f887e",
   "metadata": {},
   "source": [
    "### 1 Clean DF and Null values"
   ]
  },
  {
   "cell_type": "code",
   "execution_count": 3,
   "id": "18a4e0a8",
   "metadata": {},
   "outputs": [
    {
     "data": {
      "text/plain": [
       "Case Number               17021\n",
       "Date                      19421\n",
       "Year                      19423\n",
       "Type                      19425\n",
       "Country                   19471\n",
       "Area                      19876\n",
       "Location                  19961\n",
       "Activity                  19965\n",
       "Name                      19631\n",
       "Sex                       19986\n",
       "Age                       22252\n",
       "Injury                    19449\n",
       "Fatal (Y/N)               19960\n",
       "Time                      22775\n",
       "Species                   22259\n",
       "Investigator or Source    19438\n",
       "pdf                       19421\n",
       "href formula              19422\n",
       "href                      19421\n",
       "Case Number.1             19421\n",
       "Case Number.2             19421\n",
       "original order            19414\n",
       "Unnamed: 22               25722\n",
       "Unnamed: 23               25721\n",
       "dtype: int64"
      ]
     },
     "execution_count": 3,
     "metadata": {},
     "output_type": "execute_result"
    }
   ],
   "source": [
    "#Count nulls\n",
    "\n",
    "sharks_df_null = sharks_df.isnull().sum()\n",
    "sharks_df_null"
   ]
  },
  {
   "cell_type": "code",
   "execution_count": 4,
   "id": "79c90326",
   "metadata": {},
   "outputs": [
    {
     "data": {
      "text/plain": [
       "Case Number                66.17\n",
       "original order             75.47\n",
       "Date                       75.50\n",
       "Case Number.2              75.50\n",
       "Case Number.1              75.50\n",
       "href                       75.50\n",
       "href formula               75.50\n",
       "pdf                        75.50\n",
       "Year                       75.51\n",
       "Type                       75.52\n",
       "Investigator or Source     75.57\n",
       "Injury                     75.61\n",
       "Country                    75.69\n",
       "Name                       76.32\n",
       "Area                       77.27\n",
       "Fatal (Y/N)                77.60\n",
       "Location                   77.60\n",
       "Activity                   77.62\n",
       "Sex                        77.70\n",
       "Age                        86.51\n",
       "Species                    86.53\n",
       "Time                       88.54\n",
       "Unnamed: 23                99.99\n",
       "Unnamed: 22               100.00\n",
       "dtype: float64"
      ]
     },
     "execution_count": 4,
     "metadata": {},
     "output_type": "execute_result"
    }
   ],
   "source": [
    "#Porcentaje de nulos en cada columna, ordenados de mayor a menor.\n",
    "\n",
    "perc = lambda x: (x/len(sharks_df))*100\n",
    "sharks_null_perc = sharks_df_null.apply(perc)\n",
    "sharks_null_perc = sharks_null_perc.round(2)\n",
    "sharks_null_perc.sort_values()"
   ]
  },
  {
   "cell_type": "markdown",
   "id": "15dea9f1",
   "metadata": {},
   "source": [
    "Columnas 'Unnamed 22' y 'Unnamed 23' Tienen un gran procentaje de nulos.\n",
    "\n",
    "Ahora veremos que tipo de información nos dan "
   ]
  },
  {
   "cell_type": "code",
   "execution_count": 5,
   "id": "7765590c",
   "metadata": {},
   "outputs": [
    {
     "data": {
      "text/html": [
       "<div>\n",
       "<style scoped>\n",
       "    .dataframe tbody tr th:only-of-type {\n",
       "        vertical-align: middle;\n",
       "    }\n",
       "\n",
       "    .dataframe tbody tr th {\n",
       "        vertical-align: top;\n",
       "    }\n",
       "\n",
       "    .dataframe thead th {\n",
       "        text-align: right;\n",
       "    }\n",
       "</style>\n",
       "<table border=\"1\" class=\"dataframe\">\n",
       "  <thead>\n",
       "    <tr style=\"text-align: right;\">\n",
       "      <th></th>\n",
       "      <th>Case Number</th>\n",
       "      <th>Date</th>\n",
       "      <th>Year</th>\n",
       "      <th>Type</th>\n",
       "      <th>Country</th>\n",
       "      <th>Area</th>\n",
       "      <th>Location</th>\n",
       "      <th>Activity</th>\n",
       "      <th>Name</th>\n",
       "      <th>Sex</th>\n",
       "      <th>...</th>\n",
       "      <th>Species</th>\n",
       "      <th>Investigator or Source</th>\n",
       "      <th>pdf</th>\n",
       "      <th>href formula</th>\n",
       "      <th>href</th>\n",
       "      <th>Case Number.1</th>\n",
       "      <th>Case Number.2</th>\n",
       "      <th>original order</th>\n",
       "      <th>Unnamed: 22</th>\n",
       "      <th>Unnamed: 23</th>\n",
       "    </tr>\n",
       "  </thead>\n",
       "  <tbody>\n",
       "    <tr>\n",
       "      <th>1478</th>\n",
       "      <td>2006.05.27</td>\n",
       "      <td>27-May-2006</td>\n",
       "      <td>2006.0</td>\n",
       "      <td>Unprovoked</td>\n",
       "      <td>USA</td>\n",
       "      <td>Hawaii</td>\n",
       "      <td>North Shore, O'ahu</td>\n",
       "      <td>Surfing</td>\n",
       "      <td>Bret Desmond</td>\n",
       "      <td>M</td>\n",
       "      <td>...</td>\n",
       "      <td>NaN</td>\n",
       "      <td>R. Collier</td>\n",
       "      <td>2006.05.27-Desmond.pdf</td>\n",
       "      <td>http://sharkattackfile.net/spreadsheets/pdf_di...</td>\n",
       "      <td>http://sharkattackfile.net/spreadsheets/pdf_di...</td>\n",
       "      <td>2006.05.27</td>\n",
       "      <td>2006.05.27</td>\n",
       "      <td>4825.0</td>\n",
       "      <td>stopped here</td>\n",
       "      <td>NaN</td>\n",
       "    </tr>\n",
       "  </tbody>\n",
       "</table>\n",
       "<p>1 rows × 24 columns</p>\n",
       "</div>"
      ],
      "text/plain": [
       "     Case Number         Date    Year        Type Country    Area  \\\n",
       "1478  2006.05.27  27-May-2006  2006.0  Unprovoked     USA  Hawaii   \n",
       "\n",
       "                Location Activity          Name Sex   ... Species   \\\n",
       "1478  North Shore, O'ahu  Surfing  Bret Desmond    M  ...      NaN   \n",
       "\n",
       "     Investigator or Source                     pdf  \\\n",
       "1478             R. Collier  2006.05.27-Desmond.pdf   \n",
       "\n",
       "                                           href formula  \\\n",
       "1478  http://sharkattackfile.net/spreadsheets/pdf_di...   \n",
       "\n",
       "                                                   href Case Number.1  \\\n",
       "1478  http://sharkattackfile.net/spreadsheets/pdf_di...    2006.05.27   \n",
       "\n",
       "     Case Number.2 original order   Unnamed: 22 Unnamed: 23  \n",
       "1478    2006.05.27         4825.0  stopped here         NaN  \n",
       "\n",
       "[1 rows x 24 columns]"
      ]
     },
     "execution_count": 5,
     "metadata": {},
     "output_type": "execute_result"
    }
   ],
   "source": [
    "#Nulls Unnamed 22\n",
    "sharks_df[sharks_df['Unnamed: 22'].notnull() == True]"
   ]
  },
  {
   "cell_type": "code",
   "execution_count": 6,
   "id": "de399336",
   "metadata": {},
   "outputs": [
    {
     "data": {
      "text/html": [
       "<div>\n",
       "<style scoped>\n",
       "    .dataframe tbody tr th:only-of-type {\n",
       "        vertical-align: middle;\n",
       "    }\n",
       "\n",
       "    .dataframe tbody tr th {\n",
       "        vertical-align: top;\n",
       "    }\n",
       "\n",
       "    .dataframe thead th {\n",
       "        text-align: right;\n",
       "    }\n",
       "</style>\n",
       "<table border=\"1\" class=\"dataframe\">\n",
       "  <thead>\n",
       "    <tr style=\"text-align: right;\">\n",
       "      <th></th>\n",
       "      <th>Case Number</th>\n",
       "      <th>Date</th>\n",
       "      <th>Year</th>\n",
       "      <th>Type</th>\n",
       "      <th>Country</th>\n",
       "      <th>Area</th>\n",
       "      <th>Location</th>\n",
       "      <th>Activity</th>\n",
       "      <th>Name</th>\n",
       "      <th>Sex</th>\n",
       "      <th>...</th>\n",
       "      <th>Species</th>\n",
       "      <th>Investigator or Source</th>\n",
       "      <th>pdf</th>\n",
       "      <th>href formula</th>\n",
       "      <th>href</th>\n",
       "      <th>Case Number.1</th>\n",
       "      <th>Case Number.2</th>\n",
       "      <th>original order</th>\n",
       "      <th>Unnamed: 22</th>\n",
       "      <th>Unnamed: 23</th>\n",
       "    </tr>\n",
       "  </thead>\n",
       "  <tbody>\n",
       "    <tr>\n",
       "      <th>4415</th>\n",
       "      <td>1952.03.30</td>\n",
       "      <td>30-Mar-1952</td>\n",
       "      <td>1952.0</td>\n",
       "      <td>Unprovoked</td>\n",
       "      <td>NETHERLANDS ANTILLES</td>\n",
       "      <td>Curacao</td>\n",
       "      <td>NaN</td>\n",
       "      <td>Went to aid of child being menaced by the shark</td>\n",
       "      <td>A.J. Eggink</td>\n",
       "      <td>M</td>\n",
       "      <td>...</td>\n",
       "      <td>Bull shark, 2.7 m [9'] was captured &amp; dragged ...</td>\n",
       "      <td>J. Randall, p.352 in Sharks &amp; Survival; H.D. B...</td>\n",
       "      <td>1952.03.30-Eggink.pdf</td>\n",
       "      <td>http://sharkattackfile.net/spreadsheets/pdf_di...</td>\n",
       "      <td>http://sharkattackfile.net/spreadsheets/pdf_di...</td>\n",
       "      <td>1952.03.30</td>\n",
       "      <td>1952.03.30</td>\n",
       "      <td>1888.0</td>\n",
       "      <td>NaN</td>\n",
       "      <td>Teramo</td>\n",
       "    </tr>\n",
       "    <tr>\n",
       "      <th>5840</th>\n",
       "      <td>1878.09.14.R</td>\n",
       "      <td>Reported 14-Sep-1878</td>\n",
       "      <td>1878.0</td>\n",
       "      <td>Provoked</td>\n",
       "      <td>USA</td>\n",
       "      <td>Connecticut</td>\n",
       "      <td>Branford, New Haven County</td>\n",
       "      <td>Fishing</td>\n",
       "      <td>Captain Pattison</td>\n",
       "      <td>M</td>\n",
       "      <td>...</td>\n",
       "      <td>NaN</td>\n",
       "      <td>St. Joseph Herald, 9/14/1878</td>\n",
       "      <td>1878.09.14.R-Pattison.pdf</td>\n",
       "      <td>http://sharkattackfile.net/spreadsheets/pdf_di...</td>\n",
       "      <td>http://sharkattackfile.net/spreadsheets/pdf_di...</td>\n",
       "      <td>1878.09.14.R</td>\n",
       "      <td>1878.09.14.R</td>\n",
       "      <td>463.0</td>\n",
       "      <td>NaN</td>\n",
       "      <td>change filename</td>\n",
       "    </tr>\n",
       "  </tbody>\n",
       "</table>\n",
       "<p>2 rows × 24 columns</p>\n",
       "</div>"
      ],
      "text/plain": [
       "       Case Number                  Date    Year        Type  \\\n",
       "4415    1952.03.30           30-Mar-1952  1952.0  Unprovoked   \n",
       "5840  1878.09.14.R  Reported 14-Sep-1878  1878.0    Provoked   \n",
       "\n",
       "                   Country         Area                    Location  \\\n",
       "4415  NETHERLANDS ANTILLES      Curacao                         NaN   \n",
       "5840                   USA  Connecticut  Branford, New Haven County   \n",
       "\n",
       "                                             Activity              Name Sex   \\\n",
       "4415  Went to aid of child being menaced by the shark       A.J. Eggink    M   \n",
       "5840                                          Fishing  Captain Pattison    M   \n",
       "\n",
       "      ...                                           Species   \\\n",
       "4415  ...  Bull shark, 2.7 m [9'] was captured & dragged ...   \n",
       "5840  ...                                                NaN   \n",
       "\n",
       "                                 Investigator or Source  \\\n",
       "4415  J. Randall, p.352 in Sharks & Survival; H.D. B...   \n",
       "5840                       St. Joseph Herald, 9/14/1878   \n",
       "\n",
       "                            pdf  \\\n",
       "4415      1952.03.30-Eggink.pdf   \n",
       "5840  1878.09.14.R-Pattison.pdf   \n",
       "\n",
       "                                           href formula  \\\n",
       "4415  http://sharkattackfile.net/spreadsheets/pdf_di...   \n",
       "5840  http://sharkattackfile.net/spreadsheets/pdf_di...   \n",
       "\n",
       "                                                   href Case Number.1  \\\n",
       "4415  http://sharkattackfile.net/spreadsheets/pdf_di...    1952.03.30   \n",
       "5840  http://sharkattackfile.net/spreadsheets/pdf_di...  1878.09.14.R   \n",
       "\n",
       "     Case Number.2 original order Unnamed: 22      Unnamed: 23  \n",
       "4415    1952.03.30         1888.0         NaN           Teramo  \n",
       "5840  1878.09.14.R          463.0         NaN  change filename  \n",
       "\n",
       "[2 rows x 24 columns]"
      ]
     },
     "execution_count": 6,
     "metadata": {},
     "output_type": "execute_result"
    }
   ],
   "source": [
    "#Nulls Unnamed 23\n",
    "sharks_df[sharks_df['Unnamed: 23'].notnull() == True]"
   ]
  },
  {
   "cell_type": "markdown",
   "id": "4f6281e3",
   "metadata": {},
   "source": [
    "## 2 Duplicates and filtering\n",
    "\n",
    "Data Manipulation"
   ]
  },
  {
   "cell_type": "code",
   "execution_count": 7,
   "id": "d15e3427",
   "metadata": {},
   "outputs": [],
   "source": [
    "#remove duplicates with null data, a lot of row null without data.\n",
    "\n",
    "sharks = sharks_df.drop_duplicates()"
   ]
  },
  {
   "cell_type": "code",
   "execution_count": 8,
   "id": "98797b2c",
   "metadata": {},
   "outputs": [],
   "source": [
    "#Taking out Unnamed 22 and Unnamed 23\n",
    "\n",
    "sharks = sharks[['Case Number', 'Date', 'Year', 'Type', 'Country', 'Area', 'Location',\n",
    "       'Activity', 'Name', 'Sex ', 'Age', 'Injury', 'Fatal (Y/N)', 'Time',\n",
    "       'Species ', 'Investigator or Source', 'pdf', 'href formula', 'href',\n",
    "       'Case Number.1', 'Case Number.2', 'original order']]"
   ]
  },
  {
   "cell_type": "code",
   "execution_count": 9,
   "id": "34ec7ebb",
   "metadata": {},
   "outputs": [],
   "source": [
    "#Rename columns removing spaces.\n",
    "\n",
    "sharks.columns = [x.strip(' ') for x in sharks.columns] "
   ]
  },
  {
   "cell_type": "code",
   "execution_count": 10,
   "id": "4cf1f66f",
   "metadata": {},
   "outputs": [],
   "source": [
    "# Change spaces with a  _ of each element in a list\n",
    "#sharks_df.columns = [x.replace(\" \", \"_\") for x in sharks_df.columns] \n",
    "#sharks_df.columns"
   ]
  },
  {
   "cell_type": "code",
   "execution_count": 11,
   "id": "45e6c708",
   "metadata": {},
   "outputs": [],
   "source": [
    "#Removing spaces from the sides.\n",
    "\n",
    "sharks = sharks.applymap(lambda x: x.strip() if isinstance(x, str) else x)"
   ]
  },
  {
   "cell_type": "code",
   "execution_count": 12,
   "id": "ece966ce",
   "metadata": {},
   "outputs": [],
   "source": [
    "#Deleting last 3 rows, No useful info\n",
    "\n",
    "sharks = sharks[:-10]"
   ]
  },
  {
   "cell_type": "code",
   "execution_count": 13,
   "id": "51333c58",
   "metadata": {},
   "outputs": [
    {
     "data": {
      "text/plain": [
       "0           Paddling\n",
       "1           Standing\n",
       "2            Surfing\n",
       "3            Surfing\n",
       "4        Free diving\n",
       "            ...     \n",
       "6297          Diving\n",
       "6298    Pearl diving\n",
       "6299        Swimming\n",
       "6300           empty\n",
       "6301        Swimming\n",
       "Name: Activity, Length: 6302, dtype: object"
      ]
     },
     "execution_count": 13,
     "metadata": {},
     "output_type": "execute_result"
    }
   ],
   "source": [
    "#fill null with 'empty'\n",
    "\n",
    "sharks.Activity.fillna('empty')"
   ]
  },
  {
   "cell_type": "markdown",
   "id": "ca3be3f3",
   "metadata": {},
   "source": [
    "## 3 DataFrame Classification\n",
    "\n",
    "Classifying data according to the activities during the attack."
   ]
  },
  {
   "cell_type": "code",
   "execution_count": 14,
   "id": "c22ee22f",
   "metadata": {},
   "outputs": [],
   "source": [
    "swimming = ['Swim', 'diving', 'Scallop', 'Cave divinig', 'fotography', 'sparefishing', 'snorkeling', 'filming']\n",
    "surfing = ['Surfing', 'Windsurfing', 'Body boarding', 'Paddle-skiing', 'Kite', 'Kayak', 'Paddle', 'Rowing']\n",
    "fishing = ['Fish', 'Lobster', 'Cleaning', 'Fishing', 'fish']"
   ]
  },
  {
   "cell_type": "code",
   "execution_count": 15,
   "id": "ca835356",
   "metadata": {},
   "outputs": [],
   "source": [
    "#Classification per Swimming activities\n",
    "swim = f.concat_df(swimming, sharks, 'Activity')\n",
    "swim['Activity'] = 'Swimming activity or related'"
   ]
  },
  {
   "cell_type": "code",
   "execution_count": 16,
   "id": "9e27e034",
   "metadata": {},
   "outputs": [],
   "source": [
    "#Classification per surfing activities\n",
    "surf = f.concat_df(surfing, sharks, 'Activity')\n",
    "surf['Activity'] = 'Surfing activity or related'"
   ]
  },
  {
   "cell_type": "code",
   "execution_count": 17,
   "id": "16363a6d",
   "metadata": {},
   "outputs": [],
   "source": [
    "#Classification per fishing activities\n",
    "fish = f.concat_df(fishing, sharks, 'Activity')\n",
    "fish['Activity'] = 'Fishing activity or related'"
   ]
  },
  {
   "cell_type": "code",
   "execution_count": 18,
   "id": "051f2f46",
   "metadata": {
    "scrolled": false
   },
   "outputs": [],
   "source": [
    "#Joinning data\n",
    "listed = [swim, surf, fish]\n",
    "df = pd.concat(listed)\n",
    "\n",
    "#For World map and alpha\n",
    "df.Country = df.Country.str.capitalize()"
   ]
  },
  {
   "cell_type": "code",
   "execution_count": 19,
   "id": "f34a5309",
   "metadata": {},
   "outputs": [],
   "source": [
    "#Fillna according to the case number.\n",
    "df['Year'].fillna(2017.0,inplace=True)"
   ]
  },
  {
   "cell_type": "code",
   "execution_count": 20,
   "id": "32877b28",
   "metadata": {},
   "outputs": [],
   "source": [
    "df=df[['Case Number', 'Date', 'Year', 'Type', 'Country', 'Area', 'Location',\n",
    "       'Activity', 'Name', 'Sex', 'Age', 'Injury', 'Fatal (Y/N)', 'Time',\n",
    "       'Species']]\n",
    "df.Country = df.Country.str.title()"
   ]
  },
  {
   "cell_type": "code",
   "execution_count": 21,
   "id": "26b5b09a",
   "metadata": {},
   "outputs": [],
   "source": [
    "#Filter for last 50 years\n"
   ]
  },
  {
   "cell_type": "markdown",
   "id": "e25db731",
   "metadata": {},
   "source": [
    "## 4 Counts\n",
    "\n",
    "Count values per interesing columns."
   ]
  },
  {
   "cell_type": "code",
   "execution_count": 22,
   "id": "07433ee6",
   "metadata": {},
   "outputs": [
    {
     "data": {
      "text/plain": [
       "Usa                 2279\n",
       "Australia           1489\n",
       "South Africa         700\n",
       "Papua New Guinea     198\n",
       "Bahamas              187\n",
       "                    ... \n",
       "Red Sea?               1\n",
       "West Indies            1\n",
       "Algeria                1\n",
       "Egypt / Israel         1\n",
       "Falkland Islands       1\n",
       "Name: Country, Length: 151, dtype: int64"
      ]
     },
     "execution_count": 22,
     "metadata": {},
     "output_type": "execute_result"
    }
   ],
   "source": [
    "#Attacks per country\n",
    "df['Country'].value_counts()"
   ]
  },
  {
   "cell_type": "code",
   "execution_count": 23,
   "id": "042509fd",
   "metadata": {},
   "outputs": [
    {
     "data": {
      "text/plain": [
       "Florida                  960\n",
       "New South Wales          500\n",
       "California               392\n",
       "Hawaii                   359\n",
       "Western Cape Province    303\n",
       "                        ... \n",
       "Shanghai                   1\n",
       "East Wall                  1\n",
       "Guam                       1\n",
       "Oslo Fjord                 1\n",
       "Pennsylvania               1\n",
       "Name: Area, Length: 545, dtype: int64"
      ]
     },
     "execution_count": 23,
     "metadata": {},
     "output_type": "execute_result"
    }
   ],
   "source": [
    "#Attacks per Area\n",
    "df['Area'].value_counts()"
   ]
  },
  {
   "cell_type": "code",
   "execution_count": 24,
   "id": "24c3f3b6",
   "metadata": {},
   "outputs": [
    {
     "data": {
      "text/plain": [
       "Fishing activity or related     3643\n",
       "Swimming activity or related    1818\n",
       "Surfing activity or related     1355\n",
       "Name: Activity, dtype: int64"
      ]
     },
     "execution_count": 24,
     "metadata": {},
     "output_type": "execute_result"
    }
   ],
   "source": [
    "#attacks per Activity\n",
    "df['Activity'].value_counts()"
   ]
  },
  {
   "cell_type": "code",
   "execution_count": 25,
   "id": "8d5469f6",
   "metadata": {},
   "outputs": [
    {
     "data": {
      "text/plain": [
       "Unprovoked      4595\n",
       "Provoked        1072\n",
       "Invalid          459\n",
       "Boating          382\n",
       "Boat             242\n",
       "Sea Disaster      56\n",
       "Boatomg            3\n",
       "Questionable       2\n",
       "Name: Type, dtype: int64"
      ]
     },
     "execution_count": 25,
     "metadata": {},
     "output_type": "execute_result"
    }
   ],
   "source": [
    "df['Type'].value_counts()"
   ]
  },
  {
   "cell_type": "code",
   "execution_count": 26,
   "id": "ac9ddc9d",
   "metadata": {},
   "outputs": [
    {
     "data": {
      "text/plain": [
       "FATAL                                                         608\n",
       "No injury                                                      97\n",
       "Leg bitten                                                     87\n",
       "Foot bitten                                                    80\n",
       "Survived                                                       64\n",
       "                                                             ... \n",
       "Bitten by shark, but  repelled it with his 'skandalopetra'      1\n",
       "Severe lacerations to right shoulder & arm                      1\n",
       "Left thigh bitten, FATAL                                        1\n",
       "Lacerations to right arm & chest                                1\n",
       "FATAL, left thigh & hip bitten                                  1\n",
       "Name: Injury, Length: 2578, dtype: int64"
      ]
     },
     "execution_count": 26,
     "metadata": {},
     "output_type": "execute_result"
    }
   ],
   "source": [
    "df['Injury'].value_counts()"
   ]
  },
  {
   "cell_type": "code",
   "execution_count": 27,
   "id": "f5432291",
   "metadata": {},
   "outputs": [
    {
     "data": {
      "text/plain": [
       "New Smyrna Beach, Volusia County            130\n",
       "Daytona Beach, Volusia County                19\n",
       "Melbourne Beach, Brevard County              18\n",
       "Ponce Inlet, Volusia County                  17\n",
       "Florida Keys, Monroe County                  15\n",
       "                                           ... \n",
       "Pincushion, north of Maroochydore Beach       1\n",
       "Clam Beach, near Eureka, Humboldt County      1\n",
       "Aulong Channel                                1\n",
       "St. Croix, Cane Bay                           1\n",
       "Freetown                                      1\n",
       "Name: Location, Length: 2955, dtype: int64"
      ]
     },
     "execution_count": 27,
     "metadata": {},
     "output_type": "execute_result"
    }
   ],
   "source": [
    "df['Location'].value_counts()"
   ]
  },
  {
   "cell_type": "code",
   "execution_count": 28,
   "id": "0bdc7c7c",
   "metadata": {},
   "outputs": [
    {
     "data": {
      "text/plain": [
       "Afternoon    195\n",
       "12h00        167\n",
       "11h00        151\n",
       "Morning      144\n",
       "14h00        116\n",
       "            ... \n",
       "17h17          1\n",
       "16h35          1\n",
       "09h05          1\n",
       "19h28          1\n",
       "22h30          1\n",
       "Name: Time, Length: 298, dtype: int64"
      ]
     },
     "execution_count": 28,
     "metadata": {},
     "output_type": "execute_result"
    }
   ],
   "source": [
    "df['Time'].value_counts()"
   ]
  },
  {
   "cell_type": "markdown",
   "id": "ae74bd54",
   "metadata": {},
   "source": [
    "## 5 Grouping data"
   ]
  },
  {
   "cell_type": "markdown",
   "id": "2f6d0596",
   "metadata": {},
   "source": [
    "### 5.1 GroupBy por Countries"
   ]
  },
  {
   "cell_type": "code",
   "execution_count": 29,
   "id": "84942d36",
   "metadata": {
    "scrolled": false
   },
   "outputs": [],
   "source": [
    "#Para el mapa\n",
    "t = df.groupby(by=['Country'], as_index=False).agg('count')[['Country', 'Case Number']]\n",
    "\n",
    "#Rename column to count\n",
    "t = t.rename(columns={'Case Number':'Count'})\n",
    "\n",
    "#Delete spaces from left and right\n",
    "t.Country = t.Country.str.title()"
   ]
  },
  {
   "cell_type": "code",
   "execution_count": 30,
   "id": "bd33c77a",
   "metadata": {},
   "outputs": [],
   "source": [
    "t = t.sort_values(by='Count')\n",
    "t = t[t['Count'] > 10]"
   ]
  },
  {
   "cell_type": "code",
   "execution_count": 31,
   "id": "d6e74638",
   "metadata": {},
   "outputs": [],
   "source": [
    "#Countries not detected by the alpha, not typed correctly\n",
    "corrections = {\n",
    "'Columbia': 'Colombia', 'Scotland':'United Kingdom', 'England':'United Kingdom','New Britain':'Papua New Guinea',\n",
    "'New Guinea': 'Papua New Guinea', 'North Sea':'United Kingdom', 'Reunion':'Réunion', 'Usa':'USA'\n",
    "}"
   ]
  },
  {
   "cell_type": "code",
   "execution_count": 32,
   "id": "14414d6c",
   "metadata": {},
   "outputs": [],
   "source": [
    "country_ab = []\n",
    "\n",
    "for i in t.Country:\n",
    "\n",
    "    if i in corrections.keys():\n",
    "        i = corrections[i]\n",
    "        country_ab.append(country_name_to_country_alpha2(i))\n",
    "    else:\n",
    "        country_ab.append(country_name_to_country_alpha2(i))\n",
    "        \n",
    "        \n",
    "\n",
    "\n",
    "t['Country AB'] = country_ab\n"
   ]
  },
  {
   "cell_type": "code",
   "execution_count": 33,
   "id": "e5ea702a",
   "metadata": {
    "scrolled": true
   },
   "outputs": [],
   "source": [
    "t = t[['Country', 'Count', 'Country AB']]\n",
    "t.sort_values(by='Count', ascending=False, inplace=True)\n",
    "t = t.head(10)"
   ]
  },
  {
   "cell_type": "markdown",
   "id": "d6380dbe",
   "metadata": {},
   "source": [
    "### 5.2 Group By Years"
   ]
  },
  {
   "cell_type": "code",
   "execution_count": 34,
   "id": "50ebb32d",
   "metadata": {},
   "outputs": [],
   "source": [
    "#GroupBy Fechas\n",
    "\n",
    "fechas = df.groupby(by=['Year'], as_index=False).agg('count')[['Year', 'Case Number']]\n",
    "\n",
    "\n",
    "#Desde el 1990 hasta la fecha\n",
    "fechas[fechas['Case Number'] > 10].sort_values('Case Number')\n",
    "fechas = fechas[fechas['Year'] > 1990].sort_values('Case Number')\n"
   ]
  },
  {
   "cell_type": "markdown",
   "id": "2d466c89",
   "metadata": {},
   "source": [
    "En el 2015 cada 2 días moria una persona por ataques de tiburones haciendo actividades como Surfing, Fishing o Swimming. \n",
    "\n",
    "Since 1990 to 2018 (Last year of the Data base) The sharks attacks are been increasing"
   ]
  },
  {
   "cell_type": "code",
   "execution_count": 35,
   "id": "152cb8b8",
   "metadata": {},
   "outputs": [],
   "source": [
    "# FIltering from 1990 to 2018\n",
    "df = df[df['Year'] > 1990]"
   ]
  },
  {
   "cell_type": "markdown",
   "id": "bf609987",
   "metadata": {},
   "source": [
    "## 6 World Map"
   ]
  },
  {
   "cell_type": "code",
   "execution_count": 36,
   "id": "467e7ed6",
   "metadata": {},
   "outputs": [
    {
     "data": {
      "text/plain": [
       "<geopy.geocoders.nominatim.Nominatim at 0x7f819b98b700>"
      ]
     },
     "execution_count": 36,
     "metadata": {},
     "output_type": "execute_result"
    }
   ],
   "source": [
    "geolocator = Nominatim(user_agent='Iron Shark')\n",
    "geolocator"
   ]
  },
  {
   "cell_type": "code",
   "execution_count": 37,
   "id": "b3ff5a1d",
   "metadata": {},
   "outputs": [],
   "source": [
    "#Countries Latitude \n",
    "lat=[]\n",
    "\n",
    "for i in t['Country AB']:\n",
    "    if i not in ['SC', 'IL', 'NC'] :\n",
    "        lat.append(geolocator.geocode(i, timeout=None).latitude) \n",
    "        \n",
    "    #New Caledonia different alpha ISO    \n",
    "    elif i in 'NC':\n",
    "        lat.append(geolocator.geocode('FR-NC', timeout=None).latitude)\n",
    "    else: \n",
    "        lat.append(geolocator.geocode(i, timeout=None, country_codes=i).latitude)\n",
    "        \n",
    "t['Latitude'] = lat       "
   ]
  },
  {
   "cell_type": "code",
   "execution_count": 38,
   "id": "6da19854",
   "metadata": {},
   "outputs": [],
   "source": [
    "#Countries Longitude\n",
    "long=[]\n",
    "\n",
    "for i in t['Country AB']:\n",
    "    if i not in ['SC', 'IL', 'NC'] :\n",
    "        long.append(geolocator.geocode(i, timeout=None).longitude) \n",
    "        \n",
    "    #New Caledonia different alpha ISO    \n",
    "    elif i in 'NC':\n",
    "        long.append(geolocator.geocode('FR-NC', timeout=None).longitude)\n",
    "    else: \n",
    "        long.append(geolocator.geocode(i, timeout=None, country_codes=i).longitude)\n",
    "        \n",
    "t['Longitude'] = long   \n"
   ]
  },
  {
   "cell_type": "code",
   "execution_count": 39,
   "id": "5fb6a85c",
   "metadata": {
    "scrolled": false
   },
   "outputs": [
    {
     "data": {
      "image/png": "[encoded data removed]",
      "text/plain": [
       "<Figure size 1440x720 with 2 Axes>"
      ]
     },
     "metadata": {
      "needs_background": "light"
     },
     "output_type": "display_data"
    }
   ],
   "source": [
    "#Plot DataFrame\n",
    "fig, ax = plt.subplots(figsize=(20,10))\n",
    "\n",
    "countries = geo.read_file(geo.datasets.get_path(\"naturalearth_lowres\")).plot(ax=ax)\n",
    "\n",
    "plots = t.plot(x='Longitude', y='Latitude', kind='scatter', c='Count', colormap=\"YlOrRd\", ax=ax, title='Attacks per country')\n",
    "[plots.text(t.iloc[i][-1], t.iloc[i][-2], t.iloc[i][1]) for i in range(len(t))]\n",
    "\n",
    "plt.show()"
   ]
  },
  {
   "cell_type": "markdown",
   "id": "c4fa9967",
   "metadata": {},
   "source": [
    "## Visualizations\n",
    "\n",
    "Graphics for important data."
   ]
  },
  {
   "cell_type": "code",
   "execution_count": 40,
   "id": "b01cadf5",
   "metadata": {},
   "outputs": [
    {
     "data": {
      "image/png": "[encoded data removed]",
      "text/plain": [
       "<Figure size 432x288 with 1 Axes>"
      ]
     },
     "metadata": {
      "needs_background": "light"
     },
     "output_type": "display_data"
    }
   ],
   "source": [
    "#Barplot per countries\n",
    "\n",
    "countries_bar = t.plot.bar(xlabel = 'Countries', ylabel='Number of Attacks', y='Count', x='Country', title='Top 10 Countries with more Shark Attacks')\n",
    "countries_bar.legend('Attacks')\n",
    "plt.show()"
   ]
  },
  {
   "cell_type": "code",
   "execution_count": 41,
   "id": "8daf0c7e",
   "metadata": {},
   "outputs": [
    {
     "data": {
      "image/png": "[encoded data removed]",
      "text/plain": [
       "<Figure size 432x288 with 1 Axes>"
      ]
     },
     "metadata": {},
     "output_type": "display_data"
    }
   ],
   "source": [
    "# Barplot per activity\n",
    "\n",
    "activity_bar = df.Activity.value_counts().plot.pie(title='Shark Attacks per Activity', autopct='%1.1f%%')\n",
    "activity_bar.axis('equal')\n",
    "\n",
    "plt.show()"
   ]
  },
  {
   "cell_type": "code",
   "execution_count": 42,
   "id": "bb720d6c",
   "metadata": {},
   "outputs": [],
   "source": [
    "top = df[df.Country.isin(list(t.Country))]"
   ]
  },
  {
   "cell_type": "code",
   "execution_count": 43,
   "id": "e9d12623",
   "metadata": {},
   "outputs": [
    {
     "data": {
      "text/html": [
       "<div>\n",
       "<style scoped>\n",
       "    .dataframe tbody tr th:only-of-type {\n",
       "        vertical-align: middle;\n",
       "    }\n",
       "\n",
       "    .dataframe tbody tr th {\n",
       "        vertical-align: top;\n",
       "    }\n",
       "\n",
       "    .dataframe thead th {\n",
       "        text-align: right;\n",
       "    }\n",
       "</style>\n",
       "<table border=\"1\" class=\"dataframe\">\n",
       "  <thead>\n",
       "    <tr style=\"text-align: right;\">\n",
       "      <th></th>\n",
       "      <th>Activity</th>\n",
       "      <th>Fishing activity or related</th>\n",
       "      <th>Surfing activity or related</th>\n",
       "      <th>Swimming activity or related</th>\n",
       "      <th>All</th>\n",
       "    </tr>\n",
       "    <tr>\n",
       "      <th>Country</th>\n",
       "      <th>Area</th>\n",
       "      <th></th>\n",
       "      <th></th>\n",
       "      <th></th>\n",
       "      <th></th>\n",
       "    </tr>\n",
       "  </thead>\n",
       "  <tbody>\n",
       "    <tr>\n",
       "      <th>All</th>\n",
       "      <th></th>\n",
       "      <td>907</td>\n",
       "      <td>957</td>\n",
       "      <td>516</td>\n",
       "      <td>2380</td>\n",
       "    </tr>\n",
       "    <tr>\n",
       "      <th rowspan=\"2\" valign=\"top\">Usa</th>\n",
       "      <th>Florida</th>\n",
       "      <td>154</td>\n",
       "      <td>334</td>\n",
       "      <td>125</td>\n",
       "      <td>613</td>\n",
       "    </tr>\n",
       "    <tr>\n",
       "      <th>California</th>\n",
       "      <td>66</td>\n",
       "      <td>100</td>\n",
       "      <td>24</td>\n",
       "      <td>190</td>\n",
       "    </tr>\n",
       "    <tr>\n",
       "      <th>Australia</th>\n",
       "      <th>New South Wales</th>\n",
       "      <td>51</td>\n",
       "      <td>102</td>\n",
       "      <td>34</td>\n",
       "      <td>187</td>\n",
       "    </tr>\n",
       "    <tr>\n",
       "      <th>Usa</th>\n",
       "      <th>Hawaii</th>\n",
       "      <td>50</td>\n",
       "      <td>86</td>\n",
       "      <td>49</td>\n",
       "      <td>185</td>\n",
       "    </tr>\n",
       "    <tr>\n",
       "      <th>...</th>\n",
       "      <th>...</th>\n",
       "      <td>...</td>\n",
       "      <td>...</td>\n",
       "      <td>...</td>\n",
       "      <td>...</td>\n",
       "    </tr>\n",
       "    <tr>\n",
       "      <th rowspan=\"4\" valign=\"top\">Bahamas</th>\n",
       "      <th>Bimini</th>\n",
       "      <td>0</td>\n",
       "      <td>0</td>\n",
       "      <td>1</td>\n",
       "      <td>1</td>\n",
       "    </tr>\n",
       "    <tr>\n",
       "      <th>Cat Cay</th>\n",
       "      <td>0</td>\n",
       "      <td>0</td>\n",
       "      <td>1</td>\n",
       "      <td>1</td>\n",
       "    </tr>\n",
       "    <tr>\n",
       "      <th>New Providence District</th>\n",
       "      <td>0</td>\n",
       "      <td>0</td>\n",
       "      <td>1</td>\n",
       "      <td>1</td>\n",
       "    </tr>\n",
       "    <tr>\n",
       "      <th>Northern Bahamas</th>\n",
       "      <td>0</td>\n",
       "      <td>0</td>\n",
       "      <td>1</td>\n",
       "      <td>1</td>\n",
       "    </tr>\n",
       "    <tr>\n",
       "      <th>Australia</th>\n",
       "      <th>Torres Strait</th>\n",
       "      <td>0</td>\n",
       "      <td>0</td>\n",
       "      <td>1</td>\n",
       "      <td>1</td>\n",
       "    </tr>\n",
       "  </tbody>\n",
       "</table>\n",
       "<p>91 rows × 4 columns</p>\n",
       "</div>"
      ],
      "text/plain": [
       "Activity                           Fishing activity or related  \\\n",
       "Country   Area                                                   \n",
       "All                                                        907   \n",
       "Usa       Florida                                          154   \n",
       "          California                                        66   \n",
       "Australia New South Wales                                   51   \n",
       "Usa       Hawaii                                            50   \n",
       "...                                                        ...   \n",
       "Bahamas   Bimini                                             0   \n",
       "          Cat Cay                                            0   \n",
       "          New Providence District                            0   \n",
       "          Northern Bahamas                                   0   \n",
       "Australia Torres Strait                                      0   \n",
       "\n",
       "Activity                           Surfing activity or related  \\\n",
       "Country   Area                                                   \n",
       "All                                                        957   \n",
       "Usa       Florida                                          334   \n",
       "          California                                       100   \n",
       "Australia New South Wales                                  102   \n",
       "Usa       Hawaii                                            86   \n",
       "...                                                        ...   \n",
       "Bahamas   Bimini                                             0   \n",
       "          Cat Cay                                            0   \n",
       "          New Providence District                            0   \n",
       "          Northern Bahamas                                   0   \n",
       "Australia Torres Strait                                      0   \n",
       "\n",
       "Activity                           Swimming activity or related   All  \n",
       "Country   Area                                                         \n",
       "All                                                         516  2380  \n",
       "Usa       Florida                                           125   613  \n",
       "          California                                         24   190  \n",
       "Australia New South Wales                                    34   187  \n",
       "Usa       Hawaii                                             49   185  \n",
       "...                                                         ...   ...  \n",
       "Bahamas   Bimini                                              1     1  \n",
       "          Cat Cay                                             1     1  \n",
       "          New Providence District                             1     1  \n",
       "          Northern Bahamas                                    1     1  \n",
       "Australia Torres Strait                                       1     1  \n",
       "\n",
       "[91 rows x 4 columns]"
      ]
     },
     "execution_count": 43,
     "metadata": {},
     "output_type": "execute_result"
    }
   ],
   "source": [
    "#Top 10 Crosstab country per area and activity\n",
    "\n",
    "countries_activitiescrosstab = pd.crosstab(index=[top[\"Country\"],top[\"Area\"]],columns=[top[\"Activity\"]], margins=True).sort_values(['All', 'Country'], ascending=False)\n",
    "countries_activitiescrosstab\n"
   ]
  },
  {
   "cell_type": "code",
   "execution_count": 44,
   "id": "5a29756a",
   "metadata": {},
   "outputs": [
    {
     "data": {
      "text/plain": [
       "Text(0.5, 1.0, 'Shark Attacksk per Activity')"
      ]
     },
     "execution_count": 44,
     "metadata": {},
     "output_type": "execute_result"
    },
    {
     "data": {
      "image/png": "[encoded data removed]",
      "text/plain": [
       "<Figure size 1080x432 with 1 Axes>"
      ]
     },
     "metadata": {
      "needs_background": "light"
     },
     "output_type": "display_data"
    }
   ],
   "source": [
    "#counter plot \n",
    "\n",
    "fig, ax = plt.subplots(figsize=(15, 6))\n",
    "\n",
    "country__hue = sns.countplot(x=top['Country'], hue=top['Activity'], ax=ax)\n",
    "country__hue.set_title('Shark Attacksk per Activity')\n"
   ]
  },
  {
   "cell_type": "code",
   "execution_count": 45,
   "id": "92d1445a",
   "metadata": {},
   "outputs": [
    {
     "data": {
      "text/html": [
       "<div>\n",
       "<style scoped>\n",
       "    .dataframe tbody tr th:only-of-type {\n",
       "        vertical-align: middle;\n",
       "    }\n",
       "\n",
       "    .dataframe tbody tr th {\n",
       "        vertical-align: top;\n",
       "    }\n",
       "\n",
       "    .dataframe thead tr th {\n",
       "        text-align: left;\n",
       "    }\n",
       "\n",
       "    .dataframe thead tr:last-of-type th {\n",
       "        text-align: right;\n",
       "    }\n",
       "</style>\n",
       "<table border=\"1\" class=\"dataframe\">\n",
       "  <thead>\n",
       "    <tr>\n",
       "      <th></th>\n",
       "      <th colspan=\"21\" halign=\"left\">Case Number</th>\n",
       "    </tr>\n",
       "    <tr>\n",
       "      <th>Year</th>\n",
       "      <th>1991.0</th>\n",
       "      <th>1992.0</th>\n",
       "      <th>1993.0</th>\n",
       "      <th>1994.0</th>\n",
       "      <th>1995.0</th>\n",
       "      <th>1996.0</th>\n",
       "      <th>1997.0</th>\n",
       "      <th>1998.0</th>\n",
       "      <th>1999.0</th>\n",
       "      <th>2000.0</th>\n",
       "      <th>...</th>\n",
       "      <th>2009.0</th>\n",
       "      <th>2010.0</th>\n",
       "      <th>2011.0</th>\n",
       "      <th>2012.0</th>\n",
       "      <th>2013.0</th>\n",
       "      <th>2014.0</th>\n",
       "      <th>2015.0</th>\n",
       "      <th>2016.0</th>\n",
       "      <th>2017.0</th>\n",
       "      <th>2018.0</th>\n",
       "    </tr>\n",
       "    <tr>\n",
       "      <th>Country</th>\n",
       "      <th></th>\n",
       "      <th></th>\n",
       "      <th></th>\n",
       "      <th></th>\n",
       "      <th></th>\n",
       "      <th></th>\n",
       "      <th></th>\n",
       "      <th></th>\n",
       "      <th></th>\n",
       "      <th></th>\n",
       "      <th></th>\n",
       "      <th></th>\n",
       "      <th></th>\n",
       "      <th></th>\n",
       "      <th></th>\n",
       "      <th></th>\n",
       "      <th></th>\n",
       "      <th></th>\n",
       "      <th></th>\n",
       "      <th></th>\n",
       "      <th></th>\n",
       "    </tr>\n",
       "  </thead>\n",
       "  <tbody>\n",
       "    <tr>\n",
       "      <th>Australia</th>\n",
       "      <td>4</td>\n",
       "      <td>5</td>\n",
       "      <td>15</td>\n",
       "      <td>4</td>\n",
       "      <td>4</td>\n",
       "      <td>11</td>\n",
       "      <td>8</td>\n",
       "      <td>6</td>\n",
       "      <td>6</td>\n",
       "      <td>21</td>\n",
       "      <td>...</td>\n",
       "      <td>32</td>\n",
       "      <td>25</td>\n",
       "      <td>28</td>\n",
       "      <td>32</td>\n",
       "      <td>30</td>\n",
       "      <td>43</td>\n",
       "      <td>39</td>\n",
       "      <td>49</td>\n",
       "      <td>32</td>\n",
       "      <td>24</td>\n",
       "    </tr>\n",
       "    <tr>\n",
       "      <th>Bahamas</th>\n",
       "      <td>3</td>\n",
       "      <td>3</td>\n",
       "      <td>3</td>\n",
       "      <td>3</td>\n",
       "      <td>0</td>\n",
       "      <td>1</td>\n",
       "      <td>6</td>\n",
       "      <td>3</td>\n",
       "      <td>3</td>\n",
       "      <td>0</td>\n",
       "      <td>...</td>\n",
       "      <td>9</td>\n",
       "      <td>3</td>\n",
       "      <td>2</td>\n",
       "      <td>4</td>\n",
       "      <td>16</td>\n",
       "      <td>7</td>\n",
       "      <td>8</td>\n",
       "      <td>5</td>\n",
       "      <td>10</td>\n",
       "      <td>2</td>\n",
       "    </tr>\n",
       "    <tr>\n",
       "      <th>Brazil</th>\n",
       "      <td>3</td>\n",
       "      <td>5</td>\n",
       "      <td>3</td>\n",
       "      <td>10</td>\n",
       "      <td>4</td>\n",
       "      <td>3</td>\n",
       "      <td>5</td>\n",
       "      <td>4</td>\n",
       "      <td>9</td>\n",
       "      <td>0</td>\n",
       "      <td>...</td>\n",
       "      <td>2</td>\n",
       "      <td>1</td>\n",
       "      <td>3</td>\n",
       "      <td>1</td>\n",
       "      <td>1</td>\n",
       "      <td>3</td>\n",
       "      <td>2</td>\n",
       "      <td>2</td>\n",
       "      <td>1</td>\n",
       "      <td>9</td>\n",
       "    </tr>\n",
       "    <tr>\n",
       "      <th>Fiji</th>\n",
       "      <td>0</td>\n",
       "      <td>1</td>\n",
       "      <td>0</td>\n",
       "      <td>0</td>\n",
       "      <td>0</td>\n",
       "      <td>0</td>\n",
       "      <td>1</td>\n",
       "      <td>0</td>\n",
       "      <td>0</td>\n",
       "      <td>1</td>\n",
       "      <td>...</td>\n",
       "      <td>0</td>\n",
       "      <td>2</td>\n",
       "      <td>5</td>\n",
       "      <td>3</td>\n",
       "      <td>0</td>\n",
       "      <td>0</td>\n",
       "      <td>3</td>\n",
       "      <td>1</td>\n",
       "      <td>0</td>\n",
       "      <td>0</td>\n",
       "    </tr>\n",
       "    <tr>\n",
       "      <th>Italy</th>\n",
       "      <td>0</td>\n",
       "      <td>0</td>\n",
       "      <td>0</td>\n",
       "      <td>0</td>\n",
       "      <td>0</td>\n",
       "      <td>0</td>\n",
       "      <td>0</td>\n",
       "      <td>3</td>\n",
       "      <td>3</td>\n",
       "      <td>0</td>\n",
       "      <td>...</td>\n",
       "      <td>0</td>\n",
       "      <td>0</td>\n",
       "      <td>0</td>\n",
       "      <td>0</td>\n",
       "      <td>0</td>\n",
       "      <td>0</td>\n",
       "      <td>1</td>\n",
       "      <td>0</td>\n",
       "      <td>0</td>\n",
       "      <td>0</td>\n",
       "    </tr>\n",
       "    <tr>\n",
       "      <th>New Caledonia</th>\n",
       "      <td>0</td>\n",
       "      <td>0</td>\n",
       "      <td>5</td>\n",
       "      <td>3</td>\n",
       "      <td>0</td>\n",
       "      <td>3</td>\n",
       "      <td>0</td>\n",
       "      <td>2</td>\n",
       "      <td>3</td>\n",
       "      <td>3</td>\n",
       "      <td>...</td>\n",
       "      <td>1</td>\n",
       "      <td>0</td>\n",
       "      <td>4</td>\n",
       "      <td>0</td>\n",
       "      <td>1</td>\n",
       "      <td>2</td>\n",
       "      <td>1</td>\n",
       "      <td>9</td>\n",
       "      <td>0</td>\n",
       "      <td>5</td>\n",
       "    </tr>\n",
       "    <tr>\n",
       "      <th>New Zealand</th>\n",
       "      <td>0</td>\n",
       "      <td>1</td>\n",
       "      <td>0</td>\n",
       "      <td>0</td>\n",
       "      <td>3</td>\n",
       "      <td>1</td>\n",
       "      <td>0</td>\n",
       "      <td>0</td>\n",
       "      <td>9</td>\n",
       "      <td>6</td>\n",
       "      <td>...</td>\n",
       "      <td>13</td>\n",
       "      <td>4</td>\n",
       "      <td>1</td>\n",
       "      <td>2</td>\n",
       "      <td>4</td>\n",
       "      <td>5</td>\n",
       "      <td>0</td>\n",
       "      <td>3</td>\n",
       "      <td>2</td>\n",
       "      <td>0</td>\n",
       "    </tr>\n",
       "    <tr>\n",
       "      <th>Papua New Guinea</th>\n",
       "      <td>0</td>\n",
       "      <td>0</td>\n",
       "      <td>0</td>\n",
       "      <td>0</td>\n",
       "      <td>0</td>\n",
       "      <td>1</td>\n",
       "      <td>0</td>\n",
       "      <td>0</td>\n",
       "      <td>0</td>\n",
       "      <td>1</td>\n",
       "      <td>...</td>\n",
       "      <td>0</td>\n",
       "      <td>0</td>\n",
       "      <td>3</td>\n",
       "      <td>0</td>\n",
       "      <td>0</td>\n",
       "      <td>0</td>\n",
       "      <td>0</td>\n",
       "      <td>0</td>\n",
       "      <td>0</td>\n",
       "      <td>0</td>\n",
       "    </tr>\n",
       "    <tr>\n",
       "      <th>South Africa</th>\n",
       "      <td>4</td>\n",
       "      <td>5</td>\n",
       "      <td>4</td>\n",
       "      <td>16</td>\n",
       "      <td>3</td>\n",
       "      <td>6</td>\n",
       "      <td>7</td>\n",
       "      <td>23</td>\n",
       "      <td>7</td>\n",
       "      <td>5</td>\n",
       "      <td>...</td>\n",
       "      <td>13</td>\n",
       "      <td>6</td>\n",
       "      <td>20</td>\n",
       "      <td>7</td>\n",
       "      <td>10</td>\n",
       "      <td>7</td>\n",
       "      <td>15</td>\n",
       "      <td>7</td>\n",
       "      <td>10</td>\n",
       "      <td>5</td>\n",
       "    </tr>\n",
       "    <tr>\n",
       "      <th>Usa</th>\n",
       "      <td>27</td>\n",
       "      <td>32</td>\n",
       "      <td>17</td>\n",
       "      <td>20</td>\n",
       "      <td>39</td>\n",
       "      <td>23</td>\n",
       "      <td>30</td>\n",
       "      <td>28</td>\n",
       "      <td>30</td>\n",
       "      <td>42</td>\n",
       "      <td>...</td>\n",
       "      <td>43</td>\n",
       "      <td>48</td>\n",
       "      <td>50</td>\n",
       "      <td>67</td>\n",
       "      <td>57</td>\n",
       "      <td>62</td>\n",
       "      <td>77</td>\n",
       "      <td>64</td>\n",
       "      <td>61</td>\n",
       "      <td>7</td>\n",
       "    </tr>\n",
       "  </tbody>\n",
       "</table>\n",
       "<p>10 rows × 28 columns</p>\n",
       "</div>"
      ],
      "text/plain": [
       "                 Case Number                                                   \\\n",
       "Year                  1991.0 1992.0 1993.0 1994.0 1995.0 1996.0 1997.0 1998.0   \n",
       "Country                                                                         \n",
       "Australia                  4      5     15      4      4     11      8      6   \n",
       "Bahamas                    3      3      3      3      0      1      6      3   \n",
       "Brazil                     3      5      3     10      4      3      5      4   \n",
       "Fiji                       0      1      0      0      0      0      1      0   \n",
       "Italy                      0      0      0      0      0      0      0      3   \n",
       "New Caledonia              0      0      5      3      0      3      0      2   \n",
       "New Zealand                0      1      0      0      3      1      0      0   \n",
       "Papua New Guinea           0      0      0      0      0      1      0      0   \n",
       "South Africa               4      5      4     16      3      6      7     23   \n",
       "Usa                       27     32     17     20     39     23     30     28   \n",
       "\n",
       "                                ...                                            \\\n",
       "Year             1999.0 2000.0  ... 2009.0 2010.0 2011.0 2012.0 2013.0 2014.0   \n",
       "Country                         ...                                             \n",
       "Australia             6     21  ...     32     25     28     32     30     43   \n",
       "Bahamas               3      0  ...      9      3      2      4     16      7   \n",
       "Brazil                9      0  ...      2      1      3      1      1      3   \n",
       "Fiji                  0      1  ...      0      2      5      3      0      0   \n",
       "Italy                 3      0  ...      0      0      0      0      0      0   \n",
       "New Caledonia         3      3  ...      1      0      4      0      1      2   \n",
       "New Zealand           9      6  ...     13      4      1      2      4      5   \n",
       "Papua New Guinea      0      1  ...      0      0      3      0      0      0   \n",
       "South Africa          7      5  ...     13      6     20      7     10      7   \n",
       "Usa                  30     42  ...     43     48     50     67     57     62   \n",
       "\n",
       "                                              \n",
       "Year             2015.0 2016.0 2017.0 2018.0  \n",
       "Country                                       \n",
       "Australia            39     49     32     24  \n",
       "Bahamas               8      5     10      2  \n",
       "Brazil                2      2      1      9  \n",
       "Fiji                  3      1      0      0  \n",
       "Italy                 1      0      0      0  \n",
       "New Caledonia         1      9      0      5  \n",
       "New Zealand           0      3      2      0  \n",
       "Papua New Guinea      0      0      0      0  \n",
       "South Africa         15      7     10      5  \n",
       "Usa                  77     64     61      7  \n",
       "\n",
       "[10 rows x 28 columns]"
      ]
     },
     "execution_count": 45,
     "metadata": {},
     "output_type": "execute_result"
    }
   ],
   "source": [
    "\n",
    "grop = top.groupby(['Country', 'Year']).agg('count')[['Case Number']]\n",
    "grop = grop.unstack(fill_value=0)\n",
    "grop.head(10)"
   ]
  },
  {
   "cell_type": "code",
   "execution_count": null,
   "id": "e8d0fd1b",
   "metadata": {},
   "outputs": [],
   "source": []
  }
 ],
 "metadata": {
  "kernelspec": {
   "display_name": "Python 3 (ipykernel)",
   "language": "python",
   "name": "python3"
  },
  "language_info": {
   "codemirror_mode": {
    "name": "ipython",
    "version": 3
   },
   "file_extension": ".py",
   "mimetype": "text/x-python",
   "name": "python",
   "nbconvert_exporter": "python",
   "pygments_lexer": "ipython3",
   "version": "3.9.13"
  }
 },
 "nbformat": 4,
 "nbformat_minor": 5
}
